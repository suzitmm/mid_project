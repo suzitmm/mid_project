{
  "nbformat": 4,
  "nbformat_minor": 0,
  "metadata": {
    "colab": {
      "provenance": [],
      "authorship_tag": "ABX9TyO4CVua4S1ys/pu9pWAwcL+",
      "include_colab_link": true
    },
    "kernelspec": {
      "name": "python3",
      "display_name": "Python 3"
    },
    "language_info": {
      "name": "python"
    }
  },
  "cells": [
    {
      "cell_type": "markdown",
      "metadata": {
        "id": "view-in-github",
        "colab_type": "text"
      },
      "source": [
        "<a href=\"https://colab.research.google.com/github/suzitmm/mid_project/blob/main/dataset.ipynb\" target=\"_parent\"><img src=\"https://colab.research.google.com/assets/colab-badge.svg\" alt=\"Open In Colab\"/></a>"
      ]
    },
    {
      "cell_type": "code",
      "source": [
        "import os\n",
        "import pandas as pd\n",
        "from torchvision.io import read_image\n",
        "import json"
      ],
      "metadata": {
        "id": "V7BGYudOf3UX"
      },
      "execution_count": 1,
      "outputs": []
    },
    {
      "cell_type": "code",
      "source": [
        "!git clone https://github.com/CHILab1/MedPix-2.0.git"
      ],
      "metadata": {
        "colab": {
          "base_uri": "https://localhost:8080/"
        },
        "id": "p-dZ6yQYhdml",
        "outputId": "e5678c6e-e5eb-42f1-fd78-6c16e8fe9f1a"
      },
      "execution_count": 2,
      "outputs": [
        {
          "output_type": "stream",
          "name": "stdout",
          "text": [
            "Cloning into 'MedPix-2.0'...\n",
            "remote: Enumerating objects: 2169, done.\u001b[K\n",
            "remote: Counting objects: 100% (2169/2169), done.\u001b[K\n",
            "remote: Compressing objects: 100% (2168/2168), done.\u001b[K\n",
            "remote: Total 2169 (delta 70), reused 0 (delta 0), pack-reused 0 (from 0)\u001b[K\n",
            "Receiving objects: 100% (2169/2169), 308.16 MiB | 26.06 MiB/s, done.\n",
            "Resolving deltas: 100% (70/70), done.\n",
            "Updating files: 100% (2065/2065), done.\n"
          ]
        }
      ]
    },
    {
      "cell_type": "markdown",
      "source": [
        "1) Dataset"
      ],
      "metadata": {
        "id": "sxLIRHRr2QGP"
      }
    },
    {
      "cell_type": "code",
      "source": [
        "import torch\n",
        "from torch.utils.data import Dataset\n",
        "from PIL import Image\n",
        "from torchvision import transforms\n",
        "\n",
        "class MedPixDataset(Dataset):\n",
        "    def __init__(self, path, stage):\n",
        "      if stage == 'train':\n",
        "        self.path_image = path + 'images/'\n",
        "        self.path_label = path + 'splitted_dataset/descriptions_train.jsonl'\n",
        "\n",
        "      if stage == 'test':\n",
        "        self.path_image = path + 'images/'\n",
        "        self.path_label = path + 'splitted_dataset/descriptions_test.jsonl'\n",
        "\n",
        "      with open(self.path_label, 'r') as f:\n",
        "        self.data_label = [json.loads(line) for line in f] #load the dictonary and assigns to data_label\n",
        "\n",
        "    def __len__(self):\n",
        "      return len(self.data_label)\n",
        "\n",
        "    def __getitem__(self, idx):\n",
        "\n",
        "      label = self.data_label[idx]\n",
        "\n",
        "      image = Image.open(self.path_image + label['image'] + '.png').convert('RGB')\n",
        "      transform = transforms.Compose([\n",
        "        transforms.Resize((256, 256)),  #Resize to 256x256\n",
        "        transforms.ToTensor()\n",
        "      ]) #transform in tensors so it can be stacked in a batch\n",
        "      image = transform(image)\n",
        "      category = label['Location Category'] #Access 'Location Category' from the dictionary stored i data_label\n",
        "\n",
        "      return  category, image"
      ],
      "metadata": {
        "id": "TWnq7dbjn47f"
      },
      "execution_count": 47,
      "outputs": []
    },
    {
      "cell_type": "code",
      "source": [
        "image_shapes = [image.shape for category, image in train_dataset]\n",
        "image_shapes[:3]"
      ],
      "metadata": {
        "colab": {
          "base_uri": "https://localhost:8080/"
        },
        "id": "MRHQEBDAbrZj",
        "outputId": "b4850f38-1c3f-45b3-8450-9dbb3fe003d4"
      },
      "execution_count": 44,
      "outputs": [
        {
          "output_type": "execute_result",
          "data": {
            "text/plain": [
              "[torch.Size([3, 256, 256]),\n",
              " torch.Size([3, 256, 256]),\n",
              " torch.Size([3, 256, 256])]"
            ]
          },
          "metadata": {},
          "execution_count": 44
        }
      ]
    },
    {
      "cell_type": "code",
      "source": [
        "from collections import Counter\n",
        "Counter(image_shapes)"
      ],
      "metadata": {
        "colab": {
          "base_uri": "https://localhost:8080/"
        },
        "id": "zijSNd0ucDNt",
        "outputId": "2b4a8d5b-a71e-4b93-d2f9-b501cee1337c"
      },
      "execution_count": 46,
      "outputs": [
        {
          "output_type": "execute_result",
          "data": {
            "text/plain": [
              "Counter({torch.Size([3, 256, 256]): 1394, torch.Size([4, 256, 256]): 259})"
            ]
          },
          "metadata": {},
          "execution_count": 46
        }
      ]
    },
    {
      "cell_type": "code",
      "source": [
        "path = '/content/MedPix-2.0/'\n",
        "\n",
        "train_dataset = MedPixDataset(path, 'train')\n",
        "\n",
        "test_dataset = MedPixDataset(path, 'test')\n",
        "\n",
        "example1 = train_dataset[7]\n",
        "\n",
        "example1"
      ],
      "metadata": {
        "colab": {
          "base_uri": "https://localhost:8080/"
        },
        "id": "YWdzJOadp2ft",
        "outputId": "cc4fb890-a0ed-42bd-a5a7-f4105633b26c"
      },
      "execution_count": 48,
      "outputs": [
        {
          "output_type": "execute_result",
          "data": {
            "text/plain": [
              "('Head',\n",
              " tensor([[[0.0000, 0.0000, 0.0000,  ..., 0.0000, 0.0000, 0.0000],\n",
              "          [0.0000, 0.0000, 0.0000,  ..., 0.0000, 0.0000, 0.0000],\n",
              "          [0.0000, 0.0000, 0.0039,  ..., 0.0078, 0.0000, 0.0000],\n",
              "          ...,\n",
              "          [0.0039, 0.0078, 0.0078,  ..., 0.0039, 0.0039, 0.0039],\n",
              "          [0.0039, 0.0039, 0.0039,  ..., 0.0039, 0.0039, 0.0039],\n",
              "          [0.0039, 0.0039, 0.0039,  ..., 0.0039, 0.0039, 0.0039]],\n",
              " \n",
              "         [[0.0000, 0.0000, 0.0000,  ..., 0.0000, 0.0000, 0.0000],\n",
              "          [0.0000, 0.0000, 0.0000,  ..., 0.0000, 0.0000, 0.0000],\n",
              "          [0.0000, 0.0000, 0.0039,  ..., 0.0078, 0.0000, 0.0000],\n",
              "          ...,\n",
              "          [0.0039, 0.0078, 0.0078,  ..., 0.0039, 0.0039, 0.0039],\n",
              "          [0.0039, 0.0039, 0.0039,  ..., 0.0039, 0.0039, 0.0039],\n",
              "          [0.0039, 0.0039, 0.0039,  ..., 0.0039, 0.0039, 0.0039]],\n",
              " \n",
              "         [[0.0000, 0.0000, 0.0000,  ..., 0.0000, 0.0000, 0.0000],\n",
              "          [0.0000, 0.0000, 0.0000,  ..., 0.0000, 0.0000, 0.0000],\n",
              "          [0.0000, 0.0000, 0.0039,  ..., 0.0078, 0.0000, 0.0000],\n",
              "          ...,\n",
              "          [0.0039, 0.0078, 0.0078,  ..., 0.0039, 0.0039, 0.0039],\n",
              "          [0.0039, 0.0039, 0.0039,  ..., 0.0039, 0.0039, 0.0039],\n",
              "          [0.0039, 0.0039, 0.0039,  ..., 0.0039, 0.0039, 0.0039]]]))"
            ]
          },
          "metadata": {},
          "execution_count": 48
        }
      ]
    },
    {
      "cell_type": "markdown",
      "source": [
        "2) Dataloader\n",
        "\n",
        "The Dataset retrieves our dataset’s features and labels one sample at a time. While training a model, we typically want to pass samples in “minibatches”, reshuffle the data at every epoch to reduce model overfitting, and use Python’s multiprocessing to speed up data retrieval."
      ],
      "metadata": {
        "id": "9W3jgLp12TwN"
      }
    },
    {
      "cell_type": "code",
      "source": [
        "from torch.utils.data import DataLoader\n",
        "\n",
        "train_dataloader = DataLoader(train_dataset, batch_size=3, shuffle=True)\n",
        "test_dataloader = DataLoader(test_dataset, batch_size=3, shuffle=True)\n",
        "\n",
        "for batch_size in train_dataloader:\n",
        "    #print(batch_size)\n",
        "    print('Images:', batch_size[1])\n",
        "    print('Labels:', batch_size[0])\n",
        "    break"
      ],
      "metadata": {
        "id": "MV9ogQyk2W_j",
        "colab": {
          "base_uri": "https://localhost:8080/"
        },
        "outputId": "e02c349c-16f5-411d-a9e5-9e4a9ae75c3f",
        "collapsed": true
      },
      "execution_count": 49,
      "outputs": [
        {
          "output_type": "stream",
          "name": "stdout",
          "text": [
            "Images: tensor([[[[0.0000, 0.0000, 0.0000,  ..., 0.7647, 0.7725, 0.7725],\n",
            "          [0.0000, 0.0000, 0.0000,  ..., 0.7490, 0.7725, 0.7843],\n",
            "          [0.0000, 0.0000, 0.0000,  ..., 0.7216, 0.7608, 0.7569],\n",
            "          ...,\n",
            "          [0.0039, 0.0039, 0.0039,  ..., 0.0235, 0.0275, 0.0275],\n",
            "          [0.0039, 0.0039, 0.0039,  ..., 0.0078, 0.0078, 0.0078],\n",
            "          [0.0039, 0.0039, 0.0039,  ..., 0.0039, 0.0039, 0.0039]],\n",
            "\n",
            "         [[0.0000, 0.0000, 0.0000,  ..., 0.7647, 0.7725, 0.7725],\n",
            "          [0.0000, 0.0000, 0.0000,  ..., 0.7490, 0.7725, 0.7843],\n",
            "          [0.0000, 0.0000, 0.0000,  ..., 0.7216, 0.7608, 0.7569],\n",
            "          ...,\n",
            "          [0.0039, 0.0039, 0.0039,  ..., 0.0235, 0.0275, 0.0275],\n",
            "          [0.0039, 0.0039, 0.0039,  ..., 0.0078, 0.0078, 0.0078],\n",
            "          [0.0039, 0.0039, 0.0039,  ..., 0.0039, 0.0039, 0.0039]],\n",
            "\n",
            "         [[0.0000, 0.0000, 0.0000,  ..., 0.7647, 0.7725, 0.7725],\n",
            "          [0.0000, 0.0000, 0.0000,  ..., 0.7490, 0.7725, 0.7843],\n",
            "          [0.0000, 0.0000, 0.0000,  ..., 0.7216, 0.7608, 0.7569],\n",
            "          ...,\n",
            "          [0.0039, 0.0039, 0.0039,  ..., 0.0235, 0.0275, 0.0275],\n",
            "          [0.0039, 0.0039, 0.0039,  ..., 0.0078, 0.0078, 0.0078],\n",
            "          [0.0039, 0.0039, 0.0039,  ..., 0.0039, 0.0039, 0.0039]]],\n",
            "\n",
            "\n",
            "        [[[0.0039, 0.0039, 0.0039,  ..., 0.0118, 0.0078, 0.0078],\n",
            "          [0.0039, 0.0039, 0.0039,  ..., 0.0157, 0.0078, 0.0078],\n",
            "          [0.0039, 0.0039, 0.0039,  ..., 0.0627, 0.0118, 0.0078],\n",
            "          ...,\n",
            "          [0.0039, 0.0039, 0.0039,  ..., 0.0039, 0.0039, 0.0039],\n",
            "          [0.0039, 0.0039, 0.0039,  ..., 0.0039, 0.0039, 0.0039],\n",
            "          [0.0039, 0.0039, 0.0039,  ..., 0.0039, 0.0039, 0.0039]],\n",
            "\n",
            "         [[0.0039, 0.0039, 0.0039,  ..., 0.0118, 0.0078, 0.0078],\n",
            "          [0.0039, 0.0039, 0.0039,  ..., 0.0157, 0.0078, 0.0078],\n",
            "          [0.0039, 0.0039, 0.0039,  ..., 0.0627, 0.0118, 0.0078],\n",
            "          ...,\n",
            "          [0.0039, 0.0039, 0.0039,  ..., 0.0039, 0.0039, 0.0039],\n",
            "          [0.0039, 0.0039, 0.0039,  ..., 0.0039, 0.0039, 0.0039],\n",
            "          [0.0039, 0.0039, 0.0039,  ..., 0.0039, 0.0039, 0.0039]],\n",
            "\n",
            "         [[0.0039, 0.0039, 0.0039,  ..., 0.0118, 0.0078, 0.0078],\n",
            "          [0.0039, 0.0039, 0.0039,  ..., 0.0157, 0.0078, 0.0078],\n",
            "          [0.0039, 0.0039, 0.0039,  ..., 0.0627, 0.0118, 0.0078],\n",
            "          ...,\n",
            "          [0.0039, 0.0039, 0.0039,  ..., 0.0039, 0.0039, 0.0039],\n",
            "          [0.0039, 0.0039, 0.0039,  ..., 0.0039, 0.0039, 0.0039],\n",
            "          [0.0039, 0.0039, 0.0039,  ..., 0.0039, 0.0039, 0.0039]]],\n",
            "\n",
            "\n",
            "        [[[1.0000, 1.0000, 1.0000,  ..., 0.3569, 0.4157, 0.4667],\n",
            "          [1.0000, 1.0000, 1.0000,  ..., 0.4980, 0.5490, 0.5725],\n",
            "          [1.0000, 1.0000, 1.0000,  ..., 0.5765, 0.6078, 0.6078],\n",
            "          ...,\n",
            "          [0.0039, 0.0039, 0.0039,  ..., 0.0039, 0.0039, 0.0039],\n",
            "          [0.0039, 0.0039, 0.0039,  ..., 0.0039, 0.0039, 0.0039],\n",
            "          [0.0039, 0.0039, 0.0039,  ..., 0.0039, 0.0039, 0.0039]],\n",
            "\n",
            "         [[1.0000, 1.0000, 1.0000,  ..., 0.3569, 0.4157, 0.4667],\n",
            "          [1.0000, 1.0000, 1.0000,  ..., 0.4980, 0.5490, 0.5725],\n",
            "          [1.0000, 1.0000, 1.0000,  ..., 0.5765, 0.6078, 0.6078],\n",
            "          ...,\n",
            "          [0.0039, 0.0039, 0.0039,  ..., 0.0039, 0.0039, 0.0039],\n",
            "          [0.0039, 0.0039, 0.0039,  ..., 0.0039, 0.0039, 0.0039],\n",
            "          [0.0039, 0.0039, 0.0039,  ..., 0.0039, 0.0039, 0.0039]],\n",
            "\n",
            "         [[1.0000, 1.0000, 1.0000,  ..., 0.3569, 0.4157, 0.4667],\n",
            "          [1.0000, 1.0000, 1.0000,  ..., 0.4980, 0.5490, 0.5725],\n",
            "          [1.0000, 1.0000, 1.0000,  ..., 0.5765, 0.6078, 0.6078],\n",
            "          ...,\n",
            "          [0.0039, 0.0039, 0.0039,  ..., 0.0039, 0.0039, 0.0039],\n",
            "          [0.0039, 0.0039, 0.0039,  ..., 0.0039, 0.0039, 0.0039],\n",
            "          [0.0039, 0.0039, 0.0039,  ..., 0.0039, 0.0039, 0.0039]]]])\n",
            "Labels: ('Abdomen', 'Thorax', 'Spine and Muscles')\n"
          ]
        }
      ]
    },
    {
      "cell_type": "code",
      "source": [],
      "metadata": {
        "id": "H3pEx9jaDCkW"
      },
      "execution_count": null,
      "outputs": []
    }
  ]
}